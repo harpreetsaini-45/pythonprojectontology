{
 "cells": [
  {
   "cell_type": "code",
   "execution_count": 2,
   "id": "3a3b3e1b",
   "metadata": {},
   "outputs": [
    {
     "data": {
      "application/vnd.jupyter.widget-view+json": {
       "model_id": "1d9f236e722e430685043c08cf8b0f19",
       "version_major": 2,
       "version_minor": 0
      },
      "text/plain": [
       "Dropdown(description='Asset Type:', layout=Layout(width='300px'), options=('Stock', 'Bond', 'RealEstate'), sty…"
      ]
     },
     "metadata": {},
     "output_type": "display_data"
    },
    {
     "data": {
      "application/vnd.jupyter.widget-view+json": {
       "model_id": "b4f474e86ac8405fb11a2fba8dc30124",
       "version_major": 2,
       "version_minor": 0
      },
      "text/plain": [
       "FloatText(value=0.0, description='Asset Value:', layout=Layout(width='300px'), style=DescriptionStyle(descript…"
      ]
     },
     "metadata": {},
     "output_type": "display_data"
    },
    {
     "data": {
      "application/vnd.jupyter.widget-view+json": {
       "model_id": "d0687e2db1244c6bbe19deefb0ddd3ed",
       "version_major": 2,
       "version_minor": 0
      },
      "text/plain": [
       "Button(description='Add Asset', style=ButtonStyle(button_color='lightblue'))"
      ]
     },
     "metadata": {},
     "output_type": "display_data"
    },
    {
     "data": {
      "application/vnd.jupyter.widget-view+json": {
       "model_id": "0ff08ee0d37b426b9bc0442ba04667c9",
       "version_major": 2,
       "version_minor": 0
      },
      "text/plain": [
       "Button(description='Calculate Portfolio Value', style=ButtonStyle(button_color='lightgreen'))"
      ]
     },
     "metadata": {},
     "output_type": "display_data"
    },
    {
     "data": {
      "application/vnd.jupyter.widget-view+json": {
       "model_id": "500a4b51041f4caf84185171ac1293d3",
       "version_major": 2,
       "version_minor": 0
      },
      "text/plain": [
       "FloatText(value=0.0, description='Initial Value:', layout=Layout(width='300px'), style=DescriptionStyle(descri…"
      ]
     },
     "metadata": {},
     "output_type": "display_data"
    },
    {
     "data": {
      "application/vnd.jupyter.widget-view+json": {
       "model_id": "2eb0f78228fa45e09bfe73e68f23b602",
       "version_major": 2,
       "version_minor": 0
      },
      "text/plain": [
       "FloatText(value=0.0, description='Final Value:', layout=Layout(width='300px'), style=DescriptionStyle(descript…"
      ]
     },
     "metadata": {},
     "output_type": "display_data"
    },
    {
     "data": {
      "application/vnd.jupyter.widget-view+json": {
       "model_id": "a706250098584a7fa92308023d247bef",
       "version_major": 2,
       "version_minor": 0
      },
      "text/plain": [
       "Button(description='Calculate Rate of Return', style=ButtonStyle(button_color='lightcoral'))"
      ]
     },
     "metadata": {},
     "output_type": "display_data"
    },
    {
     "name": "stdout",
     "output_type": "stream",
     "text": [
      "Added Stock with value 29.0\n",
      "Asset added: Stock with value 29.0\n",
      "Added Bond with value 52.0\n",
      "Asset added: Bond with value 52.0\n",
      "Added RealEstate with value 84.0\n",
      "Asset added: RealEstate with value 84.0\n",
      "Total Portfolio Value: 165.0\n",
      "Rate of Return: 38.46%\n"
     ]
    }
   ],
   "source": [
    "import rdflib\n",
    "import ipywidgets as widgets\n",
    "from IPython.display import display, HTML\n",
    "import random\n",
    "\n",
    "# Load the ontology file (.owl)\n",
    "ontology_file = r\"C:\\Users\\Preet\\Downloads\\Financial.owl\" \n",
    "g = rdflib.Graph()\n",
    "g.parse(ontology_file, format=\"xml\")\n",
    "\n",
    "# Create some basic logic for calculating portfolio value and rate of return\n",
    "portfolio = []\n",
    "\n",
    "def add_asset(asset_type, value):\n",
    "    asset_uri = rdflib.URIRef(f\"http://example.org#{asset_type}{random.randint(1000, 9999)}\")\n",
    "    \n",
    "    # Add asset type\n",
    "    g.add((asset_uri, rdflib.RDF.type, rdflib.URIRef(f\"http://example.org#{asset_type}\")))\n",
    "    \n",
    "    # Add value to asset\n",
    "    g.add((asset_uri, rdflib.URIRef(\"http://example.org#hasValue\"), rdflib.Literal(value)))\n",
    "    \n",
    "    portfolio.append((asset_type, value))\n",
    "    print(f\"Added {asset_type} with value {value}\")\n",
    "\n",
    "def calculate_portfolio_value():\n",
    "    total_value = sum(value for _, value in portfolio)\n",
    "    return total_value\n",
    "\n",
    "def calculate_rate_of_return(initial_value, final_value):\n",
    "    return ((final_value - initial_value) / initial_value) * 100\n",
    "\n",
    "# Widgets for entering assets and calculating portfolio\n",
    "asset_type_input = widgets.Dropdown(\n",
    "    options=['Stock', 'Bond', 'RealEstate'],\n",
    "    description='Asset Type:',\n",
    "    style={'description_width': 'initial'},\n",
    "    layout=widgets.Layout(width='300px')\n",
    ")\n",
    "\n",
    "value_input = widgets.FloatText(\n",
    "    description='Asset Value:',\n",
    "    style={'description_width': 'initial'},\n",
    "    layout=widgets.Layout(width='300px')\n",
    ")\n",
    "\n",
    "add_button = widgets.Button(description=\"Add Asset\")\n",
    "add_button.style.button_color = 'lightblue'\n",
    "\n",
    "def on_add_asset_click(b):\n",
    "    asset_type = asset_type_input.value\n",
    "    value = value_input.value\n",
    "    add_asset(asset_type, value)\n",
    "    print(f\"Asset added: {asset_type} with value {value}\")\n",
    "\n",
    "add_button.on_click(on_add_asset_click)\n",
    "\n",
    "portfolio_value_button = widgets.Button(description=\"Calculate Portfolio Value\")\n",
    "portfolio_value_button.style.button_color = 'lightgreen'\n",
    "\n",
    "def on_calculate_portfolio_value(b):\n",
    "    total_value = calculate_portfolio_value()\n",
    "    print(f\"Total Portfolio Value: {total_value}\")\n",
    "\n",
    "portfolio_value_button.on_click(on_calculate_portfolio_value)\n",
    "\n",
    "# Rate of return\n",
    "initial_value_input = widgets.FloatText(\n",
    "    description='Initial Value:',\n",
    "    style={'description_width': 'initial'},\n",
    "    layout=widgets.Layout(width='300px')\n",
    ")\n",
    "\n",
    "final_value_input = widgets.FloatText(\n",
    "    description='Final Value:',\n",
    "    style={'description_width': 'initial'},\n",
    "    layout=widgets.Layout(width='300px')\n",
    ")\n",
    "\n",
    "rate_of_return_button = widgets.Button(description=\"Calculate Rate of Return\")\n",
    "rate_of_return_button.style.button_color = 'lightcoral'\n",
    "\n",
    "def on_rate_of_return_click(b):\n",
    "    initial_value = initial_value_input.value\n",
    "    final_value = final_value_input.value\n",
    "    rate_of_return = calculate_rate_of_return(initial_value, final_value)\n",
    "    print(f\"Rate of Return: {rate_of_return:.2f}%\")\n",
    "\n",
    "rate_of_return_button.on_click(on_rate_of_return_click)\n",
    "\n",
    "# Display widgets\n",
    "display(asset_type_input, value_input, add_button, portfolio_value_button, initial_value_input, final_value_input, rate_of_return_button)\n"
   ]
  },
  {
   "cell_type": "code",
   "execution_count": null,
   "id": "721ab6a0",
   "metadata": {},
   "outputs": [],
   "source": []
  }
 ],
 "metadata": {
  "kernelspec": {
   "display_name": "Python 3 (ipykernel)",
   "language": "python",
   "name": "python3"
  },
  "language_info": {
   "codemirror_mode": {
    "name": "ipython",
    "version": 3
   },
   "file_extension": ".py",
   "mimetype": "text/x-python",
   "name": "python",
   "nbconvert_exporter": "python",
   "pygments_lexer": "ipython3",
   "version": "3.9.7"
  }
 },
 "nbformat": 4,
 "nbformat_minor": 5
}
